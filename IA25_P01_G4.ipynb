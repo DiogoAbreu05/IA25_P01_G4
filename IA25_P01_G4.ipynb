{
 "cells": [
  {
   "cell_type": "markdown",
   "id": "764a957c",
   "metadata": {},
   "source": [
    "# Project 01 — Artificial Intelligence 2025/26\n",
    "## Class Timetable (CSP Problem)\n",
    "\n",
    "### Introduction\n",
    "> The goal of this project is to develop an intelligent agent capable of generating valid class timetables for IPCA courses, using techniques based on Constraint Satisfaction Problems (CSP).\n",
    "\n",
    "**Group members:**\n",
    "- Pedro Ribeiro — student number 27960\n",
    "- Ricardo Fernandes — student number 27961  \n",
    "- Carolina Branco — student number 27983\n",
    "- João Barbosa — student number 27964\n",
    "- Diogo Abreu — student number 27975\n",
    "\n",
    "---\n",
    "\n",
    "### 1. Goal Formulation\n",
    "- Clearly describe the objective of the agent.  \n",
    "- Identify the limitations (e.g., teacher availability, number of classrooms, etc.).  \n",
    "- Explain what kind of results are expected.\n",
    "\n",
    "---\n",
    "\n",
    "### 2. Problem Formulation (CSP)\n",
    "Explain how the problem was modeled:  \n",
    "- **Variables:** (e.g., class, course, teacher, room, time slot)  \n",
    "- **Domain:** (possible values for each variable)  \n",
    "- **Constraints:**  \n",
    "  - Hard constraints  \n",
    "  - Soft constraints  \n",
    "- **Heuristics applied:** \n",
    "\n",
    "---\n",
    "\n",
    "### 3. Implementação (Agente)\n"
   ]
  },
  {
   "cell_type": "code",
   "execution_count": null,
   "id": "dbbca795",
   "metadata": {},
   "outputs": [
    {
     "name": "stdout",
     "output_type": "stream",
     "text": [
      "[{'x': 3, 'y': 2}, {'x': 3, 'y': 1}, {'x': 2, 'y': 3}, {'x': 2, 'y': 1}, {'x': 1, 'y': 2}, {'x': 1, 'y': 3}]\n"
     ]
    }
   ],
   "source": [
    "from constraint import *\n",
    "\n",
    "#pequeno exemplo inicial\n",
    "problem = Problem()\n",
    "problem.addVariable(\"x\", [1, 2, 3])\n",
    "problem.addVariable(\"y\", [1, 2, 3])\n",
    "problem.addConstraint(lambda x, y: x != y, (\"x\", \"y\"))\n",
    "print(problem.getSolutions())\n"
   ]
  }
 ],
 "metadata": {
  "kernelspec": {
   "display_name": "Python 3",
   "language": "python",
   "name": "python3"
  },
  "language_info": {
   "codemirror_mode": {
    "name": "ipython",
    "version": 3
   },
   "file_extension": ".py",
   "mimetype": "text/x-python",
   "name": "python",
   "nbconvert_exporter": "python",
   "pygments_lexer": "ipython3",
   "version": "3.13.7"
  }
 },
 "nbformat": 4,
 "nbformat_minor": 5
}
